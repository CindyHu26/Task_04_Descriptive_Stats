{
 "cells": [
  {
   "cell_type": "code",
   "execution_count": null,
   "id": "b983a036",
   "metadata": {},
   "outputs": [
    {
     "ename": "KeyError",
     "evalue": "'spend'",
     "output_type": "error",
     "traceback": [
      "\u001b[1;31m---------------------------------------------------------------------------\u001b[0m",
      "\u001b[1;31mKeyError\u001b[0m                                  Traceback (most recent call last)",
      "File \u001b[1;32m~\\AppData\\Local\\Packages\\PythonSoftwareFoundation.Python.3.11_qbz5n2kfra8p0\\LocalCache\\local-packages\\Python311\\site-packages\\pandas\\core\\indexes\\base.py:3805\u001b[0m, in \u001b[0;36mIndex.get_loc\u001b[1;34m(self, key)\u001b[0m\n\u001b[0;32m   3804\u001b[0m \u001b[38;5;28;01mtry\u001b[39;00m:\n\u001b[1;32m-> 3805\u001b[0m     \u001b[38;5;28;01mreturn\u001b[39;00m \u001b[38;5;28;43mself\u001b[39;49m\u001b[38;5;241;43m.\u001b[39;49m\u001b[43m_engine\u001b[49m\u001b[38;5;241;43m.\u001b[39;49m\u001b[43mget_loc\u001b[49m\u001b[43m(\u001b[49m\u001b[43mcasted_key\u001b[49m\u001b[43m)\u001b[49m\n\u001b[0;32m   3806\u001b[0m \u001b[38;5;28;01mexcept\u001b[39;00m \u001b[38;5;167;01mKeyError\u001b[39;00m \u001b[38;5;28;01mas\u001b[39;00m err:\n",
      "File \u001b[1;32mindex.pyx:167\u001b[0m, in \u001b[0;36mpandas._libs.index.IndexEngine.get_loc\u001b[1;34m()\u001b[0m\n",
      "File \u001b[1;32mindex.pyx:196\u001b[0m, in \u001b[0;36mpandas._libs.index.IndexEngine.get_loc\u001b[1;34m()\u001b[0m\n",
      "File \u001b[1;32mpandas\\\\_libs\\\\hashtable_class_helper.pxi:7081\u001b[0m, in \u001b[0;36mpandas._libs.hashtable.PyObjectHashTable.get_item\u001b[1;34m()\u001b[0m\n",
      "File \u001b[1;32mpandas\\\\_libs\\\\hashtable_class_helper.pxi:7089\u001b[0m, in \u001b[0;36mpandas._libs.hashtable.PyObjectHashTable.get_item\u001b[1;34m()\u001b[0m\n",
      "\u001b[1;31mKeyError\u001b[0m: 'spend'",
      "\nThe above exception was the direct cause of the following exception:\n",
      "\u001b[1;31mKeyError\u001b[0m                                  Traceback (most recent call last)",
      "Cell \u001b[1;32mIn[1], line 15\u001b[0m\n\u001b[0;32m     11\u001b[0m df \u001b[38;5;241m=\u001b[39m pd\u001b[38;5;241m.\u001b[39mread_csv(file_path, low_memory\u001b[38;5;241m=\u001b[39m\u001b[38;5;28;01mFalse\u001b[39;00m)\n\u001b[0;32m     13\u001b[0m \u001b[38;5;66;03m# --- 資料清理與轉型 (非常重要的一步) ---\u001b[39;00m\n\u001b[0;32m     14\u001b[0m \u001b[38;5;66;03m# 將 'spend' 欄位轉為數值，忽略無法轉換的錯誤\u001b[39;00m\n\u001b[1;32m---> 15\u001b[0m df[\u001b[38;5;124m'\u001b[39m\u001b[38;5;124mspend\u001b[39m\u001b[38;5;124m'\u001b[39m] \u001b[38;5;241m=\u001b[39m pd\u001b[38;5;241m.\u001b[39mto_numeric(\u001b[43mdf\u001b[49m\u001b[43m[\u001b[49m\u001b[38;5;124;43m'\u001b[39;49m\u001b[38;5;124;43mspend\u001b[39;49m\u001b[38;5;124;43m'\u001b[39;49m\u001b[43m]\u001b[49m, errors\u001b[38;5;241m=\u001b[39m\u001b[38;5;124m'\u001b[39m\u001b[38;5;124mcoerce\u001b[39m\u001b[38;5;124m'\u001b[39m)\n\u001b[0;32m     17\u001b[0m \u001b[38;5;66;03m# 將 'publisher_platforms' 從字串轉為列表\u001b[39;00m\n\u001b[0;32m     18\u001b[0m \u001b[38;5;28;01mdef\u001b[39;00m \u001b[38;5;21msafe_literal_eval\u001b[39m(val):\n",
      "File \u001b[1;32m~\\AppData\\Local\\Packages\\PythonSoftwareFoundation.Python.3.11_qbz5n2kfra8p0\\LocalCache\\local-packages\\Python311\\site-packages\\pandas\\core\\frame.py:4102\u001b[0m, in \u001b[0;36mDataFrame.__getitem__\u001b[1;34m(self, key)\u001b[0m\n\u001b[0;32m   4100\u001b[0m \u001b[38;5;28;01mif\u001b[39;00m \u001b[38;5;28mself\u001b[39m\u001b[38;5;241m.\u001b[39mcolumns\u001b[38;5;241m.\u001b[39mnlevels \u001b[38;5;241m>\u001b[39m \u001b[38;5;241m1\u001b[39m:\n\u001b[0;32m   4101\u001b[0m     \u001b[38;5;28;01mreturn\u001b[39;00m \u001b[38;5;28mself\u001b[39m\u001b[38;5;241m.\u001b[39m_getitem_multilevel(key)\n\u001b[1;32m-> 4102\u001b[0m indexer \u001b[38;5;241m=\u001b[39m \u001b[38;5;28;43mself\u001b[39;49m\u001b[38;5;241;43m.\u001b[39;49m\u001b[43mcolumns\u001b[49m\u001b[38;5;241;43m.\u001b[39;49m\u001b[43mget_loc\u001b[49m\u001b[43m(\u001b[49m\u001b[43mkey\u001b[49m\u001b[43m)\u001b[49m\n\u001b[0;32m   4103\u001b[0m \u001b[38;5;28;01mif\u001b[39;00m is_integer(indexer):\n\u001b[0;32m   4104\u001b[0m     indexer \u001b[38;5;241m=\u001b[39m [indexer]\n",
      "File \u001b[1;32m~\\AppData\\Local\\Packages\\PythonSoftwareFoundation.Python.3.11_qbz5n2kfra8p0\\LocalCache\\local-packages\\Python311\\site-packages\\pandas\\core\\indexes\\base.py:3812\u001b[0m, in \u001b[0;36mIndex.get_loc\u001b[1;34m(self, key)\u001b[0m\n\u001b[0;32m   3807\u001b[0m     \u001b[38;5;28;01mif\u001b[39;00m \u001b[38;5;28misinstance\u001b[39m(casted_key, \u001b[38;5;28mslice\u001b[39m) \u001b[38;5;129;01mor\u001b[39;00m (\n\u001b[0;32m   3808\u001b[0m         \u001b[38;5;28misinstance\u001b[39m(casted_key, abc\u001b[38;5;241m.\u001b[39mIterable)\n\u001b[0;32m   3809\u001b[0m         \u001b[38;5;129;01mand\u001b[39;00m \u001b[38;5;28many\u001b[39m(\u001b[38;5;28misinstance\u001b[39m(x, \u001b[38;5;28mslice\u001b[39m) \u001b[38;5;28;01mfor\u001b[39;00m x \u001b[38;5;129;01min\u001b[39;00m casted_key)\n\u001b[0;32m   3810\u001b[0m     ):\n\u001b[0;32m   3811\u001b[0m         \u001b[38;5;28;01mraise\u001b[39;00m InvalidIndexError(key)\n\u001b[1;32m-> 3812\u001b[0m     \u001b[38;5;28;01mraise\u001b[39;00m \u001b[38;5;167;01mKeyError\u001b[39;00m(key) \u001b[38;5;28;01mfrom\u001b[39;00m \u001b[38;5;21;01merr\u001b[39;00m\n\u001b[0;32m   3813\u001b[0m \u001b[38;5;28;01mexcept\u001b[39;00m \u001b[38;5;167;01mTypeError\u001b[39;00m:\n\u001b[0;32m   3814\u001b[0m     \u001b[38;5;66;03m# If we have a listlike key, _check_indexing_error will raise\u001b[39;00m\n\u001b[0;32m   3815\u001b[0m     \u001b[38;5;66;03m#  InvalidIndexError. Otherwise we fall through and re-raise\u001b[39;00m\n\u001b[0;32m   3816\u001b[0m     \u001b[38;5;66;03m#  the TypeError.\u001b[39;00m\n\u001b[0;32m   3817\u001b[0m     \u001b[38;5;28mself\u001b[39m\u001b[38;5;241m.\u001b[39m_check_indexing_error(key)\n",
      "\u001b[1;31mKeyError\u001b[0m: 'spend'"
     ]
    }
   ],
   "source": [
    "import pandas as pd\n",
    "import matplotlib.pyplot as plt\n",
    "import seaborn as sns\n",
    "import ast\n",
    "\n",
    "# 設定圖表的美觀樣式\n",
    "sns.set_theme(style=\"whitegrid\")\n",
    "\n",
    "# --- 載入資料 ---\n",
    "file_path = '2024_fb_ads_president_scored_anon.csv'\n",
    "df = pd.read_csv(file_path, low_memory=False)\n",
    "\n",
    "# --- 資料清理與轉型 (非常重要的一步) ---\n",
    "# 將 'spend' 欄位轉為數值，忽略無法轉換的錯誤\n",
    "df['spend'] = pd.to_numeric(df['spend'], errors='coerce')\n",
    "\n",
    "# 將 'publisher_platforms' 從字串轉為列表\n",
    "def safe_literal_eval(val):\n",
    "    try:\n",
    "        return ast.literal_eval(val)\n",
    "    except (ValueError, SyntaxError):\n",
    "        return None # 如果解析失敗，回傳 None\n",
    "\n",
    "df['platforms_list'] = df['publisher_platforms'].apply(safe_literal_eval)\n",
    "\n",
    "print(\"資料載入與初步清理完成！\")\n",
    "df[['page_name', 'spend', 'platforms_list']].head()"
   ]
  },
  {
   "cell_type": "code",
   "execution_count": null,
   "id": "e2783105",
   "metadata": {},
   "outputs": [],
   "source": [
    "# 為了讓圖表更清晰，我們先過濾掉一些極端的離群值\n",
    "# 這裡我們只看花費小於 2000 的廣告\n",
    "df_filtered = df[df['spend'] < 2000]\n",
    "\n",
    "# --- 繪製直方圖 ---\n",
    "plt.figure(figsize=(12, 6)) # 設定圖表大小\n",
    "sns.histplot(df_filtered['spend'], bins=50, kde=True)\n",
    "plt.title('Distribution of Ad Spend (spend < 2000)') # 設定標題\n",
    "plt.xlabel('Spend') # 設定 X 軸標籤\n",
    "plt.ylabel('Number of Ads') # 設定 Y 軸標籤\n",
    "plt.show() # 顯示圖表\n",
    "\n",
    "# --- 繪製箱型圖 ---\n",
    "plt.figure(figsize=(12, 6))\n",
    "sns.boxplot(x=df_filtered['spend'])\n",
    "plt.title('Boxplot of Ad Spend (spend < 2000)')\n",
    "plt.xlabel('Spend')\n",
    "plt.show()"
   ]
  },
  {
   "cell_type": "code",
   "execution_count": 1,
   "id": "022018ad",
   "metadata": {},
   "outputs": [
    {
     "ename": "NameError",
     "evalue": "name 'df' is not defined",
     "output_type": "error",
     "traceback": [
      "\u001b[1;31m---------------------------------------------------------------------------\u001b[0m",
      "\u001b[1;31mNameError\u001b[0m                                 Traceback (most recent call last)",
      "Cell \u001b[1;32mIn[1], line 3\u001b[0m\n\u001b[0;32m      1\u001b[0m \u001b[38;5;66;03m# .explode() 會將列表中的每個平台拆分成獨立的行\u001b[39;00m\n\u001b[0;32m      2\u001b[0m \u001b[38;5;66;03m# .value_counts() 會計算每個平台出現的次數\u001b[39;00m\n\u001b[1;32m----> 3\u001b[0m platform_counts \u001b[38;5;241m=\u001b[39m \u001b[43mdf\u001b[49m\u001b[38;5;241m.\u001b[39mexplode(\u001b[38;5;124m'\u001b[39m\u001b[38;5;124mplatforms_list\u001b[39m\u001b[38;5;124m'\u001b[39m)[\u001b[38;5;124m'\u001b[39m\u001b[38;5;124mplatforms_list\u001b[39m\u001b[38;5;124m'\u001b[39m]\u001b[38;5;241m.\u001b[39mvalue_counts()\n\u001b[0;32m      5\u001b[0m \u001b[38;5;66;03m# --- 繪製條形圖 ---\u001b[39;00m\n\u001b[0;32m      6\u001b[0m plt\u001b[38;5;241m.\u001b[39mfigure(figsize\u001b[38;5;241m=\u001b[39m(\u001b[38;5;241m10\u001b[39m, \u001b[38;5;241m6\u001b[39m))\n",
      "\u001b[1;31mNameError\u001b[0m: name 'df' is not defined"
     ]
    }
   ],
   "source": [
    "# .explode() 會將列表中的每個平台拆分成獨立的行\n",
    "# .value_counts() 會計算每個平台出現的次數\n",
    "platform_counts = df.explode('platforms_list')['platforms_list'].value_counts()\n",
    "\n",
    "# --- 繪製條形圖 ---\n",
    "plt.figure(figsize=(10, 6))\n",
    "sns.barplot(x=platform_counts.index, y=platform_counts.values)\n",
    "plt.title('Most Popular Publisher Platforms')\n",
    "plt.xlabel('Platform')\n",
    "plt.ylabel('Number of Ad Placements')\n",
    "plt.xticks(rotation=45) # 讓 X 軸的標籤旋轉，避免重疊\n",
    "plt.show()"
   ]
  },
  {
   "cell_type": "code",
   "execution_count": null,
   "id": "21f91a62",
   "metadata": {},
   "outputs": [],
   "source": [
    "# --- 找出花費最高的前 10 個粉絲專頁 ---\n",
    "top_spenders = df.groupby('page_name')['spend'].sum().nlargest(10).index\n",
    "df_top = df[df['page_name'].isin(top_spenders)]\n",
    "\n",
    "# --- 計算每個專頁在各平台的投放數 ---\n",
    "# .crosstab() 是製作交叉分析表的利器\n",
    "platform_crosstab = pd.crosstab(\n",
    "    df_top.explode('platforms_list')['page_name'],\n",
    "    df_top.explode('platforms_list')['platforms_list']\n",
    ")\n",
    "\n",
    "# --- 繪製堆疊條形圖 ---\n",
    "platform_crosstab.plot(kind='bar', stacked=True, figsize=(15, 8))\n",
    "plt.title('Publisher Platform Usage for Top 10 Spenders')\n",
    "plt.xlabel('Page Name')\n",
    "plt.ylabel('Number of Ad Placements')\n",
    "plt.xticks(rotation=45, ha='right') # ha='right' 讓標籤對齊\n",
    "plt.legend(title='Platform')\n",
    "plt.tight_layout() # 自動調整邊距\n",
    "plt.show()"
   ]
  }
 ],
 "metadata": {
  "kernelspec": {
   "display_name": "Python 3",
   "language": "python",
   "name": "python3"
  },
  "language_info": {
   "codemirror_mode": {
    "name": "ipython",
    "version": 3
   },
   "file_extension": ".py",
   "mimetype": "text/x-python",
   "name": "python",
   "nbconvert_exporter": "python",
   "pygments_lexer": "ipython3",
   "version": "3.11.9"
  }
 },
 "nbformat": 4,
 "nbformat_minor": 5
}
